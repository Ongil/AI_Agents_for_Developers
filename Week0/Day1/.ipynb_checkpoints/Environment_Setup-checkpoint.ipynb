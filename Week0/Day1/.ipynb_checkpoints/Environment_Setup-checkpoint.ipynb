{
  "cells": [
    {
      "cell_type": "markdown",
      "id": "7dc5aa6e",
      "metadata": {
        "id": "7dc5aa6e"
      },
      "source": [
        "\n",
        "# **Day 1 - Development Environment Setup**\n",
        "Welcome to Day 1 of our pre-workshop. Today, we'll set up a Python development environment on **Ubuntu** and **Windows**, configure virtual environments, and get you ready for the course.\n"
      ]
    },
    {
      "cell_type": "markdown",
      "id": "fe3d1e41",
      "metadata": {
        "id": "fe3d1e41"
      },
      "source": [
        "## ✅ Session 1: Python Environment Basics"
      ]
    },
    {
      "cell_type": "markdown",
      "id": "347e0531",
      "metadata": {},
      "source": [
        "\n",
        "### Installing Python 3.11+ on Ubuntu\n",
        "<br>\n",
        "Let’s begin by ensuring Python 3.11+ is installed on your Ubuntu system. You can follow the steps below in your terminal.\n",
        "\n",
        "```bash\n",
        "sudo add-apt-repository ppa:deadsnakes/ppa -y\n",
        "sudo apt update\n",
        "sudo apt install python3.11 python3.11-venv python3.11-dev python3-pip -y\n",
        "```\n",
        "<br>\n",
        "\n",
        "**Set Python Path** (if required version is not mapped)\n",
        "```bash\n",
        "python -V\n",
        "```\n",
        "\n",
        "If python is mapped to any other version \n",
        "\n",
        "```bash\n",
        "alias python=python3.11\n",
        "```\n"
      ]
    },
    {
      "cell_type": "markdown",
      "id": "f70ddee2",
      "metadata": {
        "id": "f70ddee2"
      },
      "source": [
        "\n",
        "### Installing Python 3.11+ on Windows\n",
        "\n",
        "1. Visit: https://www.python.org/downloads/\n",
        "2. Download Python 3.11+ installer for Windows.\n",
        "3. During installation, check **“Add Python to PATH”**.\n",
        "\n",
        "#### Add Python PATH in Windows (After Installation if skipped setting up path)\n",
        "Find Python installation path:\n",
        "\n",
        "    C:\\Users\\<YourUsername>\\AppData\\Local\\Programs\\Python\\Python310\\\n",
        "\n",
        "    Overlook the folder for\n",
        "        1. python.exe\n",
        "        2. A Scripts folder containing pip.exe and other tools\n",
        "\n",
        "Copy both these paths:\n",
        "\n",
        "    Main Python folder:\n",
        "    C:\\Users\\<YourUsername>\\AppData\\Local\\Programs\\Python\\Python310\\\n",
        "\n",
        "    Scripts folder:\n",
        "    C:\\Users\\<YourUsername>\\AppData\\Local\\Programs\\Python\\Python310\\Scripts\\\n",
        "\n",
        "Add to Environment Variables:\n",
        "\n",
        "    1. Press Win + S → search for Environment Variables\n",
        "    2. Click on Edit the system environment variables\n",
        "    3. Click Environment Variables...\n",
        "    4. Under User Variables, select Path, then click Edit\n",
        "    5. Click New, and paste both paths from Step 2"
      ]
    },
    {
      "cell_type": "markdown",
      "id": "be28242c",
      "metadata": {
        "id": "be28242c"
      },
      "source": [
        "\n",
        "### What is PATH and Why It Matters?\n",
        "\n",
        "PATH is an environment variable that tells your OS where to find installed programs. If Python isn't in the PATH, commands like `python` won’t work.\n",
        "\n",
        "✅ On Ubuntu, we configured this automatically.\n",
        "\n",
        "✅ On Windows, ensure you checked “Add to PATH” during installation.\n"
      ]
    },
    {
      "cell_type": "markdown",
      "metadata": {},
      "source": [
        "### Verifying installation\n",
        "```bash\n",
        "> $ python --version\n",
        "```"
      ]
    },
    {
      "cell_type": "markdown",
      "id": "zbA8Wu1Hk6al",
      "metadata": {
        "id": "zbA8Wu1Hk6al"
      },
      "source": [
        "## **Virtual Environment**\n",
        "\n",
        "### Why Use Virtual Environments in Python?\n",
        "\n",
        "*   Isolated Dependencies: Each project has its own packages and versions.\n",
        "*   Avoid Conflicts: Run multiple projects with different library versions safely.\n",
        "*   Clean and Organized: Keep your global Python clean and lightweight.\n",
        "*   Easy Collaboration: Share requirements.txt to replicate the same setup."
      ]
    },
    {
      "cell_type": "markdown",
      "id": "3e879aea",
      "metadata": {
        "id": "3e879aea"
      },
      "source": [
        "## Setting Up Virtual Environments\n",
        "Virtual environments help us manage dependencies per project.\n",
        "\n",
        "We'll start with the built-in `venv` module. \n"
      ]
    },
    {
      "cell_type": "markdown",
      "id": "87e814b5",
      "metadata": {
        "id": "87e814b5"
      },
      "source": [
        "#### 🔄 On Ubuntu\n",
        "```bash\n",
        "# To create a Virtual Environment\n",
        "> $ python3.11 -m venv {virtualEnv Name}\n",
        "\n",
        "# To Activate\n",
        "> $ source {virtualEnv Name}/bin/activate\n",
        "\n",
        "# To Deactivate\n",
        "> $ deactivate\n",
        "\n",
        "```"
      ]
    },
    {
      "cell_type": "markdown",
      "id": "892831c6",
      "metadata": {},
      "source": [
        "#### On Windows (Command Prompt)\n",
        "```bash\n",
        "# To create a Virtual Environment\n",
        "> $ python -m venv {virtualEnv Name}\n",
        "\n",
        "# To Activate\n",
        "> $ {virtualEnv Name}\\Scripts\\activate\n",
        "\n",
        "# To Deactivate\n",
        "> $ deactivate\n",
        "```"
      ]
    },
    {
      "cell_type": "markdown",
      "id": "9cb83a02",
      "metadata": {
        "id": "9cb83a02"
      },
      "source": [
        "#### 📦 Python Package Management Overview - pip\n",
        "   What is pip?\n",
        "\n",
        "    pip stands for “Pip Installs Packages” and is the official package manager for Python.\n",
        "    It allows you to download, install, upgrade, and remove third-party libraries from the Python Package Index (PyPI).\n",
        "\n",
        "[ We prefer using pip than conda, because of the extensive community support on packages ]\n",
        "\n",
        "#### Check if pip is installed\n",
        "```bash\n",
        "> $ pip3 --version\n",
        "\n",
        "# if pip not from 3.11\n",
        "> $ alias pip=\"python3.11 -m pip\"\n",
        "```"
      ]
    },
    {
      "cell_type": "markdown",
      "id": "841de174",
      "metadata": {
        "id": "841de174"
      },
      "source": [
        "#### Using Conda [ Optional either pip or conda ]\n",
        "If you're using Anaconda/Miniconda, you can use Conda to manage environments:\n",
        "\n",
        "```bash\n",
        "# To create a Virtual Environment\n",
        "> $ conda create -n myenv python=3.10\n",
        "\n",
        "# To Activate\n",
        "> $ conda activate myenv\n",
        "\n",
        "# To Deactivate\n",
        "> $ conda deactivate\n",
        "```\n"
      ]
    },
    {
      "cell_type": "markdown",
      "id": "8W7DhDRyvKsG",
      "metadata": {
        "id": "8W7DhDRyvKsG"
      },
      "source": [
        "## Jupyter Notebook installation\n",
        "```bash\n",
        "\n",
        "# Install\n",
        "> $ pip install jupyter\n",
        "\n",
        "# Open\n",
        "> $ jupyter notebook\n",
        "\n",
        "# Browser will open with Notebook - http://localhost:8888/tree\n",
        "\n",
        "```"
      ]
    },
    {
      "cell_type": "markdown",
      "id": "a5cbcd53",
      "metadata": {
        "id": "a5cbcd53"
      },
      "source": [
        "## 📚 Session 2: Course-Specific Environment Configuration"
      ]
    },
    {
      "cell_type": "markdown",
      "id": "71c015d5",
      "metadata": {
        "id": "71c015d5"
      },
      "source": [
        "### 📦 Installing from requirements.txt\n",
        "\n",
        "Most Python projects use a `requirements.txt` file. This file lists all dependencies required for the course.\n",
        "\n",
        "```bash\n",
        "# After activating your environment\n",
        "> $ pip install -r requirements.txt\n",
        "```"
      ]
    },
    {
      "cell_type": "markdown",
      "id": "10eec10c",
      "metadata": {
        "id": "10eec10c"
      },
      "source": [
        "#### ✅ Verifying Package Installation\n",
        "```bash\n",
        "> $ pip list\n",
        "```"
      ]
    },
    {
      "cell_type": "markdown",
      "id": "667f1297",
      "metadata": {},
      "source": [
        "### Basic pip commands\n",
        "\n",
        "| Task                       | Command                            | Example                       |\n",
        "| -------------------------- | ---------------------------------- | ----------------------------- |\n",
        "| Install a package          | `pip install <package>`            | `pip install requests`        |\n",
        "| Install a specific version | `pip install <package>==<version>` | `pip install pandas==1.3.5`   |\n",
        "| Upgrade a package          | `pip install --upgrade <package>`  | `pip install --upgrade numpy` |\n",
        "| Uninstall a package        | `pip uninstall <package>`          | `pip uninstall flask`         |\n",
        "| List installed packages    | `pip list`                         | —                             |\n",
        "| Show package details       | `pip show <package>`               | `pip show requests`           |\n"
      ]
    },
    {
      "cell_type": "markdown",
      "id": "f34a3cc1",
      "metadata": {},
      "source": [
        "#### Package Versioning & Compatibility\n",
        "##### Why versions matter:\n",
        "1. Libraries evolve.\n",
        "2. New versions may break your code or introduce bugs.\n",
        "3. Older versions may not work with newer Python versions.\n",
        "\n",
        "##### Solution:\n",
        "1. Use ==version in requirements.txt\n",
        "\n",
        "2. Freeze your environment with:\n",
        "```bash\n",
        "> $ pip freeze > requirements.txt\n",
        "```\n",
        "This creates a snapshot of your current setup so others can replicate it."
      ]
    },
    {
      "cell_type": "markdown",
      "id": "872f9e34",
      "metadata": {},
      "source": [
        "#### ⚠️ Common Installation Issues & Fixes\n",
        "\n",
        "| Issue                                    | Cause / Solution                                     |\n",
        "| ---------------------------------------- | ---------------------------------------------------- |\n",
        "| `Permission denied`                      | Use `--user` or run with `sudo` (Linux/Mac)          |\n",
        "| `pip: command not found`                 | Python not added to `PATH` / `pip` not installed     |\n",
        "| Version mismatch / dependency conflicts  | Use virtual environments to isolate dependencies     |\n"
      ]
    },
    {
      "cell_type": "markdown",
      "id": "4972d955",
      "metadata": {
        "id": "4972d955"
      },
      "source": [
        "## 🌱 GitHub and Version Control Basics"
      ]
    },
    {
      "cell_type": "markdown",
      "id": "f0cdae53",
      "metadata": {
        "id": "f0cdae53"
      },
      "source": [
        "What is Version Control?\n",
        "\n",
        "Version Control lets you:\n",
        "    Track changes in your code.\n",
        "    Revert to previous versions if something breaks.\n",
        "    Collaborate with others without overwriting each other's work.\n",
        "\n",
        "Git is the most popular version control tool.\n",
        "\n",
        "GitHub is a cloud platform where we store Git repositories online.\n",
        "\n",
        "#### We'll use Git to download course materials and manage code changes.\n"
      ]
    },
    {
      "cell_type": "markdown",
      "id": "0c13836c",
      "metadata": {},
      "source": [
        "##### 🛠️ Installing Git\n",
        "✅ On Ubuntu:\n",
        "\n",
        "``` bash\n",
        "> $ sudo apt install git\n",
        "```\n",
        "\n",
        "✅ On Windows:\n",
        "\n",
        "* Download Git for Windows: https://git-scm.com/download/win\n",
        "* Install with default settings (you get Git Bash and Git GUI)"
      ]
    },
    {
      "cell_type": "markdown",
      "id": "395704c3",
      "metadata": {},
      "source": [
        "#### 🔧 Git Basics: Common Commands\n",
        "\n",
        "##### ✅ 1. Clone a GitHub Repo\n",
        "\n",
        "This downloads the full code to your local machine.\n",
        "```bash\n",
        "> $ git clone https://github.com/{username}/{repo-name}.git\n",
        "# username - Account user name create in Git\n",
        "# repo-name - Repository name \n",
        "```\n",
        "⏬ This creates a local folder named repo-name.\n",
        "\n",
        "##### ✅ 2. Pull the Latest Changes\n",
        "\n",
        "To  get the updated files from Repository\n",
        "\n",
        "```bash\n",
        "> $ git pull\n",
        "```\n",
        "\n",
        "##### ✅ 3. Switch Between Versions (Branches)\n",
        "Branches can be used to maintain different version or functionaility building\n",
        "```bash\n",
        "> $ git checkout branch-name\n",
        "```\n",
        "You can switch to a different feature or version of the project using this command."
      ]
    },
    {
      "cell_type": "markdown",
      "id": "df76e85b",
      "metadata": {
        "id": "df76e85b"
      },
      "source": [
        "\n",
        "### 📁 Gitignore\n",
        "\n",
        "The `.gitignore` file tells Git which files NOT to track — e.g., API keys, virtual environments, etc.\n",
        "Sometimes we have passwords, security keys or temporary files we don’t want to upload to GitHub.\n",
        "\n",
        "Add lines like:\n",
        "\n",
        "```\n",
        ".env\n",
        "venv/\n",
        "*.pyc\n",
        "```\n",
        "\n",
        "[ Git will ignore anything listed in .gitignore file ]"
      ]
    },
    {
      "cell_type": "markdown",
      "id": "fdfefcbb",
      "metadata": {
        "id": "fdfefcbb"
      },
      "source": [
        "### 🧪 Verifying Setup\n",
        "We will run the below script to confirm the installation is successful"
      ]
    },
    {
      "cell_type": "code",
      "execution_count": 1,
      "id": "b6c42cfe",
      "metadata": {
        "id": "b6c42cfe"
      },
      "outputs": [
        {
          "name": "stdout",
          "output_type": "stream",
          "text": [
            "Python version: 3.11.12\n",
            "Running on: Linux 5.15.0-139-generic\n",
            "\n",
            "Successfully made HTTP request!\n",
            "Random GitHub Zen: Approachable is better than simple.\n",
            "\n",
            "Simple calculation test:\n",
            "Sum of [1, 2, 3, 4, 5] = 15\n"
          ]
        }
      ],
      "source": [
        "import requests\n",
        "import sys\n",
        "import platform\n",
        "\n",
        "def check_environment():\n",
        "    # Basic Python version check\n",
        "    print(f\"Python version: {sys.version.split()[0]}\")\n",
        "    print(f\"Running on: {platform.system()} {platform.release()}\")\n",
        "    \n",
        "    # Test requests library\n",
        "    try:\n",
        "        response = requests.get(\"https://api.github.com/zen\")\n",
        "        if response.status_code == 200:\n",
        "            print(\"\\nSuccessfully made HTTP request!\")\n",
        "            print(f\"Random GitHub Zen: {response.text}\")\n",
        "        else:\n",
        "            print(f\"HTTP request failed with status code: {response.status_code}\")\n",
        "    except requests.exceptions.RequestException as e:\n",
        "        print(f\"Error making HTTP request: {e}\")\n",
        "    \n",
        "    # Simple calculation\n",
        "    numbers = [1, 2, 3, 4, 5]\n",
        "    result = sum(numbers)\n",
        "    print(f\"\\nSimple calculation test:\")\n",
        "    print(f\"Sum of {numbers} = {result}\")\n",
        "\n",
        "if __name__ == \"__main__\":\n",
        "    check_environment()"
      ]
    },
    {
      "cell_type": "markdown",
      "id": "aaf878e3",
      "metadata": {
        "id": "aaf878e3"
      },
      "source": [
        "## ✅ Day 1 Summary"
      ]
    },
    {
      "cell_type": "markdown",
      "id": "098586ee",
      "metadata": {
        "id": "098586ee"
      },
      "source": [
        "\n",
        "You now have:\n",
        "\n",
        "- Python 3.11+ installed and working\n",
        "- Virtual environments set up\n",
        "- Course packages installed via pip\n",
        "- Git and GitHub access\n"
      ]
    }
  ],
  "metadata": {
    "colab": {
      "provenance": []
    },
    "kernelspec": {
      "display_name": ".venv",
      "language": "python",
      "name": "python3"
    },
    "language_info": {
      "codemirror_mode": {
        "name": "ipython",
        "version": 3
      },
      "file_extension": ".py",
      "mimetype": "text/x-python",
      "name": "python",
      "nbconvert_exporter": "python",
      "pygments_lexer": "ipython3",
      "version": "3.11.12"
    }
  },
  "nbformat": 4,
  "nbformat_minor": 5
}
